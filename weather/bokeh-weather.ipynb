{
 "cells": [
  {
   "cell_type": "code",
   "execution_count": 14,
   "metadata": {},
   "outputs": [],
   "source": [
    "# Making a basic bokeh line graph\n",
    "\n",
    "# Importing bokeh and pandas\n",
    "\n",
    "from bokeh.plotting import figure\n",
    "from bokeh.io import output_file, show\n",
    "import pandas\n",
    "\n",
    "# Prepare some data\n",
    "df = pandas.read_excel(\"verlegenhuken.xlsx\")\n",
    "x = df[\"Temperature\"]\n",
    "y = df[\"Pressure\"]\n",
    "\n",
    "# Create a figure object\n",
    "p = figure(plot_width=900, plot_height=900)\n",
    "\n",
    "p.title.text=\"Temperature and Air Pressure\"\n",
    "p.title.text_color=\"Black\"\n",
    "p.title.text_font=\"arial\"\n",
    "p.title.text_font_style=\"bold\"\n",
    "p.xaxis.minor_tick_line_color=None\n",
    "p.yaxis.minor_tick_line_color=None\n",
    "p.xaxis.axis_label=\"Pressure (hPa)\"\n",
    "p.yaxis.axis_label=\"Temp (C)\" \n",
    "\n",
    "# Prepare the output file\n",
    "output_file(\"weather.html\")\n",
    "\n",
    "# Create line plot\n",
    "p.circle((x/10.0),(y/10.0), size=1, color=\"green\")\n",
    "\n",
    "show(p)"
   ]
  },
  {
   "cell_type": "code",
   "execution_count": 2,
   "metadata": {},
   "outputs": [],
   "source": []
  }
 ],
 "metadata": {
  "kernelspec": {
   "display_name": "Python 3",
   "language": "python",
   "name": "python3"
  },
  "language_info": {
   "codemirror_mode": {
    "name": "ipython",
    "version": 3
   },
   "file_extension": ".py",
   "mimetype": "text/x-python",
   "name": "python",
   "nbconvert_exporter": "python",
   "pygments_lexer": "ipython3",
   "version": "3.7.0"
  }
 },
 "nbformat": 4,
 "nbformat_minor": 2
}
